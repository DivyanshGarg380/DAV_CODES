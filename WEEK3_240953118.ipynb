{
 "cells": [
  {
   "cell_type": "code",
   "execution_count": 9,
   "id": "32bb400c",
   "metadata": {},
   "outputs": [],
   "source": [
    "# Data Visualization\n",
    "# BTech Computer Science Stream , January 2025\n",
    "# Week 3 NumPy Basics: Arrays and Vectorized Computation - Demonstration Code\n",
    "# Name: Divyansh Garg , reg number - 240953118 , Date: 27/01/2025"
   ]
  },
  {
   "cell_type": "code",
   "execution_count": 12,
   "id": "863f8cdd",
   "metadata": {},
   "outputs": [],
   "source": [
    "import numpy as np"
   ]
  },
  {
   "cell_type": "code",
   "execution_count": 21,
   "id": "b301e6be",
   "metadata": {},
   "outputs": [
    {
     "name": "stdout",
     "output_type": "stream",
     "text": [
      "[[ 4 17 46 36]\n",
      " [ 3  4  4 39]\n",
      " [29  9 34 37]]\n",
      "Mean = 21.833333333333332 \n",
      " Median = 23.0 \n",
      " Standard dev = 15.826314233649674\n",
      "Sum of matrix is:  262 \n",
      " Sum of each row element is:  [103  50 109]\n",
      "New matrix now is: \n"
     ]
    },
    {
     "data": {
      "text/plain": [
       "array([[ 4, 17, 46, 36,  3,  4],\n",
       "       [ 4, 39, 29,  9, 34, 37]])"
      ]
     },
     "execution_count": 21,
     "metadata": {},
     "output_type": "execute_result"
    }
   ],
   "source": [
    "import random\n",
    "n=np.random.randint(1,51,size=(3,4))\n",
    "print(n)\n",
    "n_mean=np.mean(n)\n",
    "n_median=np.median(n)\n",
    "n_std=np.std(n)\n",
    "print(\"Mean =\",n_mean,\"\\n\",\"Median =\",n_median,\"\\n\",\"Standard dev =\",n_std)\n",
    "sum1= np.sum(n)\n",
    "sum2=np.sum(n,axis=1)\n",
    "print(\"Sum of matrix is: \",sum1,\"\\n\",\"Sum of each row element is: \",sum2)\n",
    "new_matrix=np.reshape(n,(2,6))\n",
    "print(\"New matrix now is: \")\n",
    "new_matrix"
   ]
  },
  {
   "cell_type": "code",
   "execution_count": 37,
   "id": "cdd16ced",
   "metadata": {},
   "outputs": [
    {
     "name": "stdout",
     "output_type": "stream",
     "text": [
      "Matrix 1 is: \n",
      "\n",
      "[[16  2 37]\n",
      " [89 92 69]\n",
      " [93 61 25]] \n",
      "\n",
      "Matrix 2 is: \n",
      "\n",
      "[[43 31 35]\n",
      " [ 5 22 16]\n",
      " [42 33  6]] \n",
      "\n",
      "Sum of 2 matrix is :\n",
      "[[ 59  33  72]\n",
      " [ 94 114  85]\n",
      " [135  94  31]]\n",
      "Difference of 2 matrix is: \n",
      "[[-27 -29   2]\n",
      " [ 84  70  53]\n",
      " [ 51  28  19]]\n",
      "Prouct of each element of the 2 matrix is: \n",
      "[[ 688   62 1295]\n",
      " [ 445 2024 1104]\n",
      " [3906 2013  150]]\n",
      "Dot product: \n",
      "[[2252 1761  814]\n",
      " [7185 7060 5001]\n",
      " [5354 5050 4381]]\n",
      "\n",
      "Transpose of Matrix A:\n",
      "[[16 89 93]\n",
      " [ 2 92 61]\n",
      " [37 69 25]]\n",
      "\n",
      "Transpose of Matrix B:\n",
      "[[43  5 42]\n",
      " [31 22 33]\n",
      " [35 16  6]]\n",
      "\n",
      "Determinant of A: -137858.99999999985\n",
      "Determinant of B: -23691.000000000022\n",
      "\n",
      "Inverse of Matrix A:\n",
      "[[ 0.01384748 -0.01600911  0.02369087]\n",
      " [-0.03040788  0.02205877 -0.01587854]\n",
      " [ 0.0226826   0.00573049 -0.0093864 ]]\n",
      "\n",
      "Inverse of Matrix B:\n",
      "[[ 0.01671521 -0.04090161  0.01156557]\n",
      " [-0.0270989   0.05115867  0.02165379]\n",
      " [ 0.03203748  0.00493858 -0.03338821]]\n"
     ]
    }
   ],
   "source": [
    "a=np.random.randint(1,100,size=(3,3))\n",
    "b=np.random.randint(1,50,size=(3,3))\n",
    "print(\"Matrix 1 is: \\n\")\n",
    "print(a,\"\\n\")\n",
    "print(\"Matrix 2 is: \\n\")\n",
    "print(b,\"\\n\")\n",
    "print(\"Sum of 2 matrix is :\")\n",
    "add = a+b\n",
    "print(add)\n",
    "print(\"Difference of 2 matrix is: \")\n",
    "diff=a-b\n",
    "print(diff)\n",
    "print(\"Prouct of each element of the 2 matrix is: \")\n",
    "prod=a*b\n",
    "print(prod)\n",
    "print(\"Dot product: \")\n",
    "dotprod=a.dot(b)\n",
    "print(dotprod)\n",
    "transpose_A = a.T\n",
    "transpose_B = b.T\n",
    "print(\"\\nTranspose of Matrix A:\")\n",
    "print(transpose_A)\n",
    "print(\"\\nTranspose of Matrix B:\")\n",
    "print(transpose_B)\n",
    "det_A = np.linalg.det(a)\n",
    "det_B = np.linalg.det(b)\n",
    "print(\"\\nDeterminant of A:\", det_A)\n",
    "print(\"Determinant of B:\", det_B)\n",
    "if det_A != 0:\n",
    "    inverse_A = np.linalg.inv(a)\n",
    "    print(\"\\nInverse of Matrix A:\")\n",
    "    print(inverse_A)\n",
    "else:\n",
    "    print(\"\\nMatrix A is singular and doesn't have an inverse.\")\n",
    "if det_B != 0:\n",
    "    inverse_B = np.linalg.inv(b)\n",
    "    print(\"\\nInverse of Matrix B:\")\n",
    "    print(inverse_B)\n",
    "else:\n",
    "    print(\"\\nMatrix B is singular and doesn't have an inverse.\")"
   ]
  },
  {
   "cell_type": "code",
   "execution_count": null,
   "id": "8ec3af40",
   "metadata": {},
   "outputs": [],
   "source": []
  }
 ],
 "metadata": {
  "kernelspec": {
   "display_name": "Python 3 (ipykernel)",
   "language": "python",
   "name": "python3"
  },
  "language_info": {
   "codemirror_mode": {
    "name": "ipython",
    "version": 3
   },
   "file_extension": ".py",
   "mimetype": "text/x-python",
   "name": "python",
   "nbconvert_exporter": "python",
   "pygments_lexer": "ipython3",
   "version": "3.13.1"
  }
 },
 "nbformat": 4,
 "nbformat_minor": 5
}
