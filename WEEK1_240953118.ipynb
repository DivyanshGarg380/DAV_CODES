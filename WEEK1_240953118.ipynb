{
 "cells": [
  {
   "cell_type": "code",
   "execution_count": 1,
   "id": "825b3d27",
   "metadata": {},
   "outputs": [
    {
     "name": "stdout",
     "output_type": "stream",
     "text": [
      "Enter num1:5\n",
      "Enter num2: 6\n",
      "11.0\n",
      "-1.0\n",
      "30.0\n",
      "0.8333333333333334\n"
     ]
    }
   ],
   "source": [
    "def basicalc(num1,num2):\n",
    "    sum=a+b\n",
    "    diff=a-b\n",
    "    prod=a*b\n",
    "    div=a/b\n",
    "    print(sum)\n",
    "    print(diff)\n",
    "    print(prod)\n",
    "    print(div)\n",
    "a=float(input(\"Enter num1:\" ))\n",
    "b=float(input(\"Enter num2: \"))\n",
    "basicalc(a,b)"
   ]
  },
  {
   "cell_type": "code",
   "execution_count": 5,
   "id": "1cb1a89c",
   "metadata": {},
   "outputs": [
    {
     "name": "stdout",
     "output_type": "stream",
     "text": [
      "Enter any number: 9\n",
      "Not prime\n"
     ]
    }
   ],
   "source": [
    "def prime(a):\n",
    "    x=int(a/2)\n",
    "    f=0\n",
    "    if(a<2):\n",
    "        print(\"Not prime\")\n",
    "    else:\n",
    "        for i in range(2,x):\n",
    "            if(a%i==0):\n",
    "                f=1\n",
    "        if(f==1):\n",
    "            print(\"Not prime\")\n",
    "        else:\n",
    "            print(\"Prime\")\n",
    "a=int(input(\"Enter any number: \"))\n",
    "prime(a)"
   ]
  },
  {
   "cell_type": "code",
   "execution_count": 6,
   "id": "5c0b02c6",
   "metadata": {},
   "outputs": [
    {
     "name": "stdout",
     "output_type": "stream",
     "text": [
      "1\n",
      "3\n",
      "5\n",
      "7\n",
      "9\n",
      "11\n",
      "13\n",
      "15\n",
      "17\n",
      "19\n",
      "21\n",
      "23\n",
      "25\n",
      "27\n",
      "29\n",
      "31\n",
      "33\n",
      "35\n",
      "37\n",
      "39\n",
      "41\n",
      "43\n",
      "45\n",
      "47\n",
      "49\n",
      "51\n",
      "53\n",
      "55\n",
      "57\n",
      "59\n",
      "61\n",
      "63\n",
      "65\n",
      "67\n",
      "69\n",
      "71\n",
      "73\n",
      "75\n",
      "77\n",
      "79\n",
      "81\n",
      "83\n",
      "85\n",
      "87\n",
      "89\n",
      "91\n",
      "93\n",
      "95\n",
      "97\n",
      "99\n",
      "Sum is:  2450\n"
     ]
    }
   ],
   "source": [
    "def sequence():\n",
    "    c=0\n",
    "    for i in range(1,100):\n",
    "        if(i%2==0):\n",
    "            c+=i\n",
    "        else:\n",
    "            print(i)\n",
    "    print(\"Sum is: \",c)\n",
    "sequence()"
   ]
  },
  {
   "cell_type": "code",
   "execution_count": 8,
   "id": "abb21224",
   "metadata": {},
   "outputs": [
    {
     "name": "stdout",
     "output_type": "stream",
     "text": [
      "Enter number1: 5\n",
      "Enter number2: 6\n",
      "Sum is:  11\n",
      "Enter number1: 5\n",
      "Enter number2: 6\n",
      "Sum is:  11.0\n",
      "Enter string1: divu \n",
      "Enter string2: garg\n",
      "Sum is:  divu garg\n"
     ]
    }
   ],
   "source": [
    "def variableadditon():\n",
    "    a=int(input(\"Enter number1: \"))\n",
    "    b=int(input(\"Enter number2: \"))\n",
    "    print(\"Sum is: \",a+b)\n",
    "    a=float(input(\"Enter number1: \"))\n",
    "    b=float(input(\"Enter number2: \"))\n",
    "    print(\"Sum is: \",a+b)\n",
    "    a=(input(\"Enter string1: \"))\n",
    "    b=(input(\"Enter string2: \"))\n",
    "    print(\"Sum is: \",a+b)\n",
    "variableadditon()"
   ]
  },
  {
   "cell_type": "code",
   "execution_count": 11,
   "id": "246e73f0",
   "metadata": {},
   "outputs": [
    {
     "name": "stdout",
     "output_type": "stream",
     "text": [
      "Enter the string: Divyansh\n",
      "Vowel count:  2\n",
      "Consonant count:  6\n"
     ]
    }
   ],
   "source": [
    "def vowelcount(a):\n",
    "    vc=0\n",
    "    cc=0\n",
    "    b=\"aeiou\"\n",
    "    for char in a:\n",
    "        if char in b:\n",
    "            vc+=1\n",
    "        else :\n",
    "            cc+=1\n",
    "    print(\"Vowel count: \",vc)\n",
    "    print(\"Consonant count: \",cc)\n",
    "a=input(\"Enter the string: \")\n",
    "vowelcount(a)"
   ]
  },
  {
   "cell_type": "code",
   "execution_count": null,
   "id": "9742223f",
   "metadata": {},
   "outputs": [],
   "source": []
  }
 ],
 "metadata": {
  "kernelspec": {
   "display_name": "Python 3 (ipykernel)",
   "language": "python",
   "name": "python3"
  },
  "language_info": {
   "codemirror_mode": {
    "name": "ipython",
    "version": 3
   },
   "file_extension": ".py",
   "mimetype": "text/x-python",
   "name": "python",
   "nbconvert_exporter": "python",
   "pygments_lexer": "ipython3",
   "version": "3.13.1"
  }
 },
 "nbformat": 4,
 "nbformat_minor": 5
}
