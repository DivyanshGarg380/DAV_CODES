{
 "cells": [
  {
   "cell_type": "code",
   "execution_count": 1,
   "id": "ec225bda",
   "metadata": {},
   "outputs": [
    {
     "name": "stdout",
     "output_type": "stream",
     "text": [
      "Enter element: 11\n",
      "Enter element: 11\n",
      "Enter element: 11\n",
      "Enter element: 56\n",
      "Enter element: 90\n",
      "Max element is:  56\n",
      "Min element is:  11\n",
      "sum of list is:  89\n",
      "Avg of list is:  11.125\n",
      "Occurence of a same number is:  3\n"
     ]
    }
   ],
   "source": [
    "a_list = []\n",
    "for i in range(5):\n",
    "    userin=int(input(\"Enter element: \"))\n",
    "    a_list+=[userin]\n",
    "max=0\n",
    "min=1000\n",
    "sum=0\n",
    "avg=0\n",
    "oc=0\n",
    "for i in range(0,4):\n",
    "    if(a_list[i]>max):\n",
    "        max=a_list[i]\n",
    "    if(a_list[i]<min):\n",
    "        min=a_list[i]\n",
    "    sum += a_list[i]\n",
    "    for j in range(i+1,3):\n",
    "        if(a_list[i]==a_list[j]):\n",
    "            oc+=1\n",
    "print(\"Max element is: \",max)\n",
    "print(\"Min element is: \",min)\n",
    "print(\"sum of list is: \",sum)\n",
    "print(\"Avg of list is: \",float(sum/8))\n",
    "print(\"Occurence of a same number is: \",oc)"
   ]
  },
  {
   "cell_type": "code",
   "execution_count": 2,
   "id": "31eb8e09",
   "metadata": {},
   "outputs": [
    {
     "name": "stdout",
     "output_type": "stream",
     "text": [
      "Tuple values cant be changed\n"
     ]
    }
   ],
   "source": [
    "tup = 3,6,0,2,9\n",
    "tup\n",
    "try:\n",
    "    tup[0]=16\n",
    "except:\n",
    "    print(\"Tuple values cant be changed\")"
   ]
  },
  {
   "cell_type": "code",
   "execution_count": 7,
   "id": "eb8f7b76",
   "metadata": {},
   "outputs": [
    {
     "name": "stdout",
     "output_type": "stream",
     "text": [
      "Union : {0, 1, 2, 3, 4, 5, 6, 8}\n",
      "Intersection : {2, 4}\n",
      "Difference : {0, 8, 6}\n"
     ]
    }
   ],
   "source": [
    "A = {0, 2, 4, 6, 8}; \n",
    "B = {1, 2, 3, 4, 5}; \n",
    "print(\"Union :\", A | B)  \n",
    "print(\"Intersection :\", A & B)  \n",
    "print(\"Difference :\", A - B) "
   ]
  },
  {
   "cell_type": "code",
   "execution_count": 2,
   "id": "ba32960e",
   "metadata": {},
   "outputs": [
    {
     "name": "stdout",
     "output_type": "stream",
     "text": [
      "Enter string: Hello , How are you buddy !\n"
     ]
    },
    {
     "data": {
      "text/plain": [
       "{'h': 2,\n",
       " 'e': 2,\n",
       " 'l': 2,\n",
       " 'o': 3,\n",
       " '': 8,\n",
       " 'w': 1,\n",
       " 'a': 1,\n",
       " 'r': 1,\n",
       " 'y': 2,\n",
       " 'u': 2,\n",
       " 'b': 1,\n",
       " 'd': 2}"
      ]
     },
     "execution_count": 2,
     "metadata": {},
     "output_type": "execute_result"
    }
   ],
   "source": [
    "a=input(\"Enter string: \")\n",
    "b=a.split()\n",
    "temp_list=[]\n",
    "result=dict()\n",
    "used_words=[]\n",
    "for i in a:\n",
    "    temp=''\n",
    "    for j in i:\n",
    "        if j.isalpha():\n",
    "            temp+=j.lower()\n",
    "    temp_list+=[temp]\n",
    "for word in temp_list:\n",
    "    if word in used_words:\n",
    "        continue\n",
    "    else:\n",
    "        used_words+=[word]\n",
    "        result[word] = temp_list.count(word)\n",
    "result"
   ]
  },
  {
   "cell_type": "code",
   "execution_count": 9,
   "id": "572792e9",
   "metadata": {},
   "outputs": [
    {
     "name": "stdout",
     "output_type": "stream",
     "text": [
      "The best performing country is  India  with  3  victories \n",
      "['New zealand', 'India', 'Australia', 'Sri lanka', 'India', 'Australia', 'India']\n"
     ]
    },
    {
     "data": {
      "text/plain": [
       "[1, 3, 2, 1, 3, 2, 3]"
      ]
     },
     "execution_count": 9,
     "metadata": {},
     "output_type": "execute_result"
    }
   ],
   "source": [
    "year_country={2000:'New zealand' , 2004:'India',2008:'Australia' , 2012:'Sri lanka',2016:'India',2020:'Australia',2024:'India'}\n",
    "countries = list(year_country.values())\n",
    "country_count=[]\n",
    "index=0\n",
    "for i in countries:\n",
    "    country_count+=[countries.count(i)]\n",
    "h_freq=max(country_count)\n",
    "for i in range(len(country_count)):\n",
    "    if country_count[i]==h_freq:\n",
    "        index=i\n",
    "        break\n",
    "print(\"The best performing country is \",countries[index],\" with \",h_freq,\" victories \")\n",
    "print(countries)\n",
    "country_count"
   ]
  }
 ],
 "metadata": {
  "kernelspec": {
   "display_name": "Python 3 (ipykernel)",
   "language": "python",
   "name": "python3"
  },
  "language_info": {
   "codemirror_mode": {
    "name": "ipython",
    "version": 3
   },
   "file_extension": ".py",
   "mimetype": "text/x-python",
   "name": "python",
   "nbconvert_exporter": "python",
   "pygments_lexer": "ipython3",
   "version": "3.13.1"
  }
 },
 "nbformat": 4,
 "nbformat_minor": 5
}
