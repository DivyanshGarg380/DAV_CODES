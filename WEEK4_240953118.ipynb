{
 "cells": [
  {
   "cell_type": "code",
   "execution_count": 2,
   "id": "c388c3ba",
   "metadata": {},
   "outputs": [],
   "source": [
    "# Data Visualization\n",
    "# BTech Computer Science Stream , January 2025\n",
    "# Week 4  Pandas, Data loading, Storage and File formats - Demonstration Code\n",
    "# Name: Divyansh Garg , reg number - 240953118 , Date: 27/01/2025"
   ]
  },
  {
   "cell_type": "code",
   "execution_count": 3,
   "id": "619493c4",
   "metadata": {},
   "outputs": [],
   "source": [
    "import pandas as pd"
   ]
  },
  {
   "cell_type": "code",
   "execution_count": 14,
   "id": "a751f419",
   "metadata": {},
   "outputs": [
    {
     "name": "stdout",
     "output_type": "stream",
     "text": [
      "\n",
      "Average temp is: \n",
      "16.714285714285715\n",
      "\n",
      "Maximum temperature: 22°C on Saturday\n",
      "Minimum temperature: 12°C on Monday\n",
      "\n",
      "\n",
      "Temperatures greater than 18°C:\n",
      "Friday      20\n",
      "Saturday    22\n",
      "dtype: int64\n",
      "\n",
      "Temperatures in Fahrenheit:\n",
      "Monday       53.6\n",
      "Tuesday      59.0\n",
      "Wednesday    57.2\n",
      "Thursday     64.4\n",
      "Friday       68.0\n",
      "Saturday     71.6\n",
      "Sunday       60.8\n",
      "dtype: float64\n",
      "\n",
      "Days with temperatures above the average (16.71°C):\n",
      "Thursday    18\n",
      "Friday      20\n",
      "Saturday    22\n",
      "dtype: int64\n"
     ]
    }
   ],
   "source": [
    "temperatures = [12, 15, 14, 18, 20, 22, 16]\n",
    "days_of_week = ['Monday', 'Tuesday', 'Wednesday', 'Thursday', 'Friday', 'Saturday', 'Sunday']\n",
    "temp_list = pd.Series(temperatures,index=days_of_week)\n",
    "temp_list\n",
    "print(\"\\nAverage temp is: \")\n",
    "avg = temp_list.mean()\n",
    "print(avg)\n",
    "max_temp=temp_list.max()\n",
    "min_temp=temp_list.min()\n",
    "max_temp_day = temp_list.idxmax()\n",
    "min_temp_day = temp_list.idxmin()\n",
    "print(f\"\\nMaximum temperature: {max_temp}°C on {max_temp_day}\")\n",
    "print(f\"Minimum temperature: {min_temp}°C on {min_temp_day}\\n\")\n",
    "greater_values = temp_list[temp_list > 18]\n",
    "print(f\"\\nTemperatures greater than 18°C:\\n{greater_values}\")\n",
    "fahr_temp = temp_list*9/5+32\n",
    "print(f\"\\nTemperatures in Fahrenheit:\\n{fahr_temp}\")\n",
    "above_average_days = temp_list[temp_list > avg]\n",
    "print(f\"\\nDays with temperatures above the average ({avg:.2f}°C):\\n{above_average_days}\")"
   ]
  },
  {
   "cell_type": "code",
   "execution_count": 3,
   "id": "64ca05f1",
   "metadata": {},
   "outputs": [
    {
     "name": "stdout",
     "output_type": "stream",
     "text": [
      "Student DataFrame:\n",
      "   Roll Number      Name Gender  Marks1  Marks2  Marks3  Total Marks  \\\n",
      "0            1  Divyansh      M      35      40      75          150   \n",
      "1            2     Virat      M      45      60      85          190   \n",
      "2            3    Aditya      M      50      55      72          177   \n",
      "3            4   Abhinav      M      60      30      65          155   \n",
      "4            5     Riyan      M      72      80      90          242   \n",
      "5            6   Aryaman      M      80      50      88          218   \n",
      "6            7      Niel      M      55      42      60          157   \n",
      "7            8     Ayush      M      48      75      82          205   \n",
      "8            9    Nikhil      M      39      20      45          104   \n",
      "9           10     Kanav      M      62      88      70          220   \n",
      "\n",
      "   Average Marks  \n",
      "0      50.000000  \n",
      "1      63.333333  \n",
      "2      59.000000  \n",
      "3      51.666667  \n",
      "4      80.666667  \n",
      "5      72.666667  \n",
      "6      52.333333  \n",
      "7      68.333333  \n",
      "8      34.666667  \n",
      "9      73.333333  \n",
      "\n",
      "Lowest Marks in Marks1: 35\n",
      "Highest Marks in Marks2: 88\n",
      "Average Marks in Marks3: 73.20\n",
      "Student with the highest average marks: Riyan\n",
      "Number of students who failed in Marks 2 (< 40): 2\n"
     ]
    }
   ],
   "source": [
    "import pandas as pd\n",
    "data = {\n",
    "    'Roll Number': [1, 2, 3, 4, 5, 6, 7, 8, 9, 10],\n",
    "    'Name': ['Divyansh','Virat','Aditya','Abhinav','Riyan','Aryaman','Niel', 'Ayush','Nikhil','Kanav'],\n",
    "    'Gender': ['M', 'M', 'M', 'M', 'M', 'M', 'M', 'M', 'M', 'M'],\n",
    "    'Marks1': [35, 45, 50, 60, 72, 80, 55, 48, 39, 62],\n",
    "    'Marks2': [40, 60, 55, 30, 80, 50, 42, 75, 20, 88],\n",
    "    'Marks3': [75, 85, 72, 65, 90, 88, 60, 82, 45, 70]\n",
    "}\n",
    "df = pd.DataFrame(data)\n",
    "df['Total Marks'] = df['Marks1'] + df['Marks2'] + df['Marks3']\n",
    "lowest = df['Marks1'].min()\n",
    "highest = df['Marks2'].max()\n",
    "average = df['Marks3'].mean()\n",
    "df['Average Marks'] = df[['Marks1', 'Marks2', 'Marks3']].mean(axis=1)\n",
    "top_student = df.loc[df['Average Marks'].idxmax(), 'Name']\n",
    "failed = df[df['Marks2'] < 40].shape[0]\n",
    "print(\"Student DataFrame:\")\n",
    "print(df)\n",
    "print(f\"\\nLowest Marks in Marks1: {lowest}\")\n",
    "print(f\"Highest Marks in Marks2: {highest}\")\n",
    "print(f\"Average Marks in Marks3: {average:.2f}\")\n",
    "print(f\"Student with the highest average marks: {top_student}\")\n",
    "print(f\"Number of students who failed in Marks 2 (< 40): {failed}\")"
   ]
  },
  {
   "cell_type": "code",
   "execution_count": null,
   "id": "81df3012",
   "metadata": {},
   "outputs": [],
   "source": []
  }
 ],
 "metadata": {
  "kernelspec": {
   "display_name": "Python 3 (ipykernel)",
   "language": "python",
   "name": "python3"
  },
  "language_info": {
   "codemirror_mode": {
    "name": "ipython",
    "version": 3
   },
   "file_extension": ".py",
   "mimetype": "text/x-python",
   "name": "python",
   "nbconvert_exporter": "python",
   "pygments_lexer": "ipython3",
   "version": "3.13.1"
  }
 },
 "nbformat": 4,
 "nbformat_minor": 5
}
