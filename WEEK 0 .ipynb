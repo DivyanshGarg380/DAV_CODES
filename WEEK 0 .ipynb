{
 "cells": [
  {
   "cell_type": "code",
   "execution_count": 79,
   "id": "a611e734",
   "metadata": {},
   "outputs": [],
   "source": [
    "# Data Visualization\n",
    "# BTech Computer Science Stream , January 2025\n",
    "# Week 1 Python Language Basics - Demonstration Code\n",
    "# Name : Divyansh Garg , 240953118 , Date : 06/01/2025"
   ]
  },
  {
   "cell_type": "code",
   "execution_count": 1,
   "id": "27f27c7d",
   "metadata": {},
   "outputs": [
    {
     "name": "stdout",
     "output_type": "stream",
     "text": [
      "Divyansh Garg\n"
     ]
    }
   ],
   "source": [
    "print('Divyansh Garg')"
   ]
  },
  {
   "cell_type": "code",
   "execution_count": 4,
   "id": "552bf56b",
   "metadata": {},
   "outputs": [
    {
     "name": "stdout",
     "output_type": "stream",
     "text": [
      "Variable var_C =  8\n"
     ]
    }
   ],
   "source": [
    "var_A = 5\n",
    "var_B = 3\n",
    "print('Variable var_C = ',var_A + var_B)"
   ]
  },
  {
   "cell_type": "code",
   "execution_count": 5,
   "id": "57a272dd",
   "metadata": {},
   "outputs": [
    {
     "name": "stdout",
     "output_type": "stream",
     "text": [
      "1.6666666666666667\n",
      "1\n",
      "2\n"
     ]
    }
   ],
   "source": [
    "print(var_A/var_B) # Quotient\n",
    "print(var_A//var_B) # Floor value ( Round - off )\n",
    "print(var_A%var_B) # Remainder"
   ]
  },
  {
   "cell_type": "code",
   "execution_count": 7,
   "id": "e3885057",
   "metadata": {},
   "outputs": [
    {
     "name": "stdout",
     "output_type": "stream",
     "text": [
      "0.34568\n",
      "0.00068\n"
     ]
    }
   ],
   "source": [
    "var_fA = 0.345\n",
    "var_fB = 6.8e-4\n",
    "print(var_fA + var_fB)\n",
    "print(var_fB)"
   ]
  },
  {
   "cell_type": "code",
   "execution_count": 9,
   "id": "01e209a8",
   "metadata": {},
   "outputs": [
    {
     "name": "stdout",
     "output_type": "stream",
     "text": [
      "string that spans\n",
      "multiple Lines\n",
      "\n"
     ]
    },
    {
     "data": {
      "text/plain": [
       "2"
      ]
     },
     "execution_count": 9,
     "metadata": {},
     "output_type": "execute_result"
    }
   ],
   "source": [
    "var_strA = 'This is my first Python class'\n",
    "var_strB = \"\"\"string that spans\n",
    "multiple Lines\n",
    "\"\"\"\n",
    "print(var_strB)\n",
    "var_strB.count(\"\\n\")"
   ]
  },
  {
   "cell_type": "code",
   "execution_count": 10,
   "id": "fdee9f95",
   "metadata": {},
   "outputs": [
    {
     "data": {
      "text/plain": [
       "'This is my first Python demonstration'"
      ]
     },
     "execution_count": 10,
     "metadata": {},
     "output_type": "execute_result"
    }
   ],
   "source": [
    "var_strC = var_strA.replace(\"class\",\"demonstration\")\n",
    "var_strC"
   ]
  },
  {
   "cell_type": "code",
   "execution_count": 15,
   "id": "9338dddf",
   "metadata": {},
   "outputs": [],
   "source": [
    "var_BoolA = True\n",
    "var_BoolB = False\n",
    "var_BoolB?"
   ]
  },
  {
   "cell_type": "code",
   "execution_count": 19,
   "id": "8d883f49",
   "metadata": {},
   "outputs": [
    {
     "name": "stdout",
     "output_type": "stream",
     "text": [
      "<class 'int'>\n",
      "<class 'bool'>\n"
     ]
    }
   ],
   "source": [
    "var_Int = 1\n",
    "var_BoolC = bool(var_Int)\n",
    "print(type(var_Int))\n",
    "print(type(var_BoolC))"
   ]
  },
  {
   "cell_type": "code",
   "execution_count": 33,
   "id": "0c64861b",
   "metadata": {},
   "outputs": [],
   "source": [
    "def fn_add_maybe_multiply(var_a , var_b , var_c = None):\n",
    "    result = var_a + var_b\n",
    "    if var_c is not None :\n",
    "        result *= var_c\n",
    "    return result\n",
    "    "
   ]
  },
  {
   "cell_type": "code",
   "execution_count": 34,
   "id": "317374b9",
   "metadata": {},
   "outputs": [
    {
     "data": {
      "text/plain": [
       "6"
      ]
     },
     "execution_count": 34,
     "metadata": {},
     "output_type": "execute_result"
    }
   ],
   "source": [
    "fn_add_maybe_multiply(1,2,2)"
   ]
  },
  {
   "cell_type": "code",
   "execution_count": 42,
   "id": "dfbe9cc0",
   "metadata": {},
   "outputs": [
    {
     "name": "stdout",
     "output_type": "stream",
     "text": [
      "Negative\n"
     ]
    }
   ],
   "source": [
    "var_x = -5\n",
    "if(var_x<0) :\n",
    "    print(\"Negative\")\n",
    "else :\n",
    "    print(\"Positive\")"
   ]
  },
  {
   "cell_type": "code",
   "execution_count": 63,
   "id": "e0c94a19",
   "metadata": {},
   "outputs": [
    {
     "name": "stdout",
     "output_type": "stream",
     "text": [
      "Enter a number: -0846566\n",
      "Its Negative\n"
     ]
    }
   ],
   "source": [
    "var_x = int(input(\"Enter a number: \"))\n",
    "if(var_x<0): \n",
    "    print(\"Its Negative\")\n",
    "elif(var_x==0) : \n",
    "    print(\"Equal to zero\")\n",
    "elif(0<var_x<5): \n",
    "    print(\"Positive but smaller than 5\")\n",
    "else : \n",
    "    print(\"Postive and larger than 5 too !\")"
   ]
  },
  {
   "cell_type": "code",
   "execution_count": 69,
   "id": "03caeed5",
   "metadata": {},
   "outputs": [
    {
     "data": {
      "text/plain": [
       "12"
      ]
     },
     "execution_count": 69,
     "metadata": {},
     "output_type": "execute_result"
    }
   ],
   "source": [
    "var_seqA = [1,2,None,4,None,5]\n",
    "var_tot = 0\n",
    "for value in var_seqA :\n",
    "    if value is not None :\n",
    "        var_tot += value\n",
    "var_tot"
   ]
  },
  {
   "cell_type": "code",
   "execution_count": 78,
   "id": "5903380f",
   "metadata": {},
   "outputs": [
    {
     "data": {
      "text/plain": [
       "0"
      ]
     },
     "execution_count": 78,
     "metadata": {},
     "output_type": "execute_result"
    }
   ],
   "source": [
    "var_seqB = [5,5,0,4,6,5,2,1,]\n",
    "var_tot = 0\n",
    "for value in var_seqB :\n",
    "    if ( value == 5 ) :\n",
    "        break\n",
    "    var_tot += value\n",
    "var_tot"
   ]
  },
  {
   "cell_type": "code",
   "execution_count": 80,
   "id": "136b8d4b",
   "metadata": {},
   "outputs": [
    {
     "data": {
      "text/plain": [
       "504"
      ]
     },
     "execution_count": 80,
     "metadata": {},
     "output_type": "execute_result"
    }
   ],
   "source": [
    "var_x =  256\n",
    "var_total = 0\n",
    "while var_x > 0 :\n",
    "    if var_total > 500 :\n",
    "        break\n",
    "    var_total += var_x\n",
    "    var_x //= 2\n",
    "var_total"
   ]
  },
  {
   "cell_type": "code",
   "execution_count": 87,
   "id": "e9af7f24",
   "metadata": {},
   "outputs": [],
   "source": [
    "var_x = 0\n",
    "if var_x < 0 :\n",
    "    print(\"Negative\")\n",
    "elif var_x == 0 :\n",
    "    pass \n",
    "else :\n",
    "    print(\"Positive\")"
   ]
  },
  {
   "cell_type": "code",
   "execution_count": 99,
   "id": "46e0f28e",
   "metadata": {},
   "outputs": [
    {
     "data": {
      "text/plain": [
       "[0, 1, 2, 3, 4, 5, 6, 7, 8, 9]"
      ]
     },
     "execution_count": 99,
     "metadata": {},
     "output_type": "execute_result"
    }
   ],
   "source": [
    "list(range(10))"
   ]
  },
  {
   "cell_type": "code",
   "execution_count": 100,
   "id": "ba9829b7",
   "metadata": {},
   "outputs": [
    {
     "name": "stdout",
     "output_type": "stream",
     "text": [
      "1\n",
      "2\n",
      "3\n",
      "4\n"
     ]
    }
   ],
   "source": [
    "var_seq = [1,2,3,4]\n",
    "for i in range(len(var_seq)):\n",
    "    print(var_seq[i])"
   ]
  }
 ],
 "metadata": {
  "kernelspec": {
   "display_name": "Python 3 (ipykernel)",
   "language": "python",
   "name": "python3"
  },
  "language_info": {
   "codemirror_mode": {
    "name": "ipython",
    "version": 3
   },
   "file_extension": ".py",
   "mimetype": "text/x-python",
   "name": "python",
   "nbconvert_exporter": "python",
   "pygments_lexer": "ipython3",
   "version": "3.9.13"
  }
 },
 "nbformat": 4,
 "nbformat_minor": 5
}
